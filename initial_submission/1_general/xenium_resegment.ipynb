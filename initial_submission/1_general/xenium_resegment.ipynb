{
 "cells": [
  {
   "cell_type": "markdown",
   "id": "66c0010c-1501-4de4-be2f-72d49aecb719",
   "metadata": {},
   "source": [
    "## Resegment the data using Xenium Ranger\n",
    "\n",
    "[Xenium Ranger documentation for re-segmentation](https://www.10xgenomics.com/support/software/xenium-ranger/latest/analysis/running-pipelines/XR-resegment)\n",
    "\n",
    "Used version 1.7.1.1 here"
   ]
  },
  {
   "cell_type": "code",
   "execution_count": null,
   "id": "5bd6165b-8faa-4e66-8eb5-a5cbecc70d25",
   "metadata": {},
   "outputs": [],
   "source": [
    "!date"
   ]
  },
  {
   "cell_type": "markdown",
   "id": "99ba75fc-741a-495e-9ef4-cc636cdee0c6",
   "metadata": {},
   "source": [
    "#### import libraries"
   ]
  },
  {
   "cell_type": "code",
   "execution_count": null,
   "id": "995e58c4-21a5-4bab-b5f4-b1cd4eaa7e02",
   "metadata": {},
   "outputs": [],
   "source": [
    "from pandas import read_csv, concat\n",
    "from seaborn import barplot\n",
    "from os.path import exists\n",
    "\n",
    "import matplotlib.pyplot as plt\n",
    "from matplotlib.pyplot import rc_context\n",
    "\n",
    "%matplotlib inline\n",
    "# for white background of figures (only for docs rendering)\n",
    "%config InlineBackend.print_figure_kwargs={'facecolor' : \"w\"}\n",
    "%config InlineBackend.figure_format='retina'"
   ]
  },
  {
   "cell_type": "markdown",
   "id": "36aed86f-6838-4134-a308-5295821e8a87",
   "metadata": {},
   "source": [
    "#### set notebook variables"
   ]
  },
  {
   "cell_type": "code",
   "execution_count": null,
   "id": "c1b1c49e-f3a1-4253-abff-2db178f29286",
   "metadata": {},
   "outputs": [],
   "source": [
    "# naming\n",
    "project = 'mouse_snca_spatial'\n",
    "platform = 'xenium'\n",
    "\n",
    "# directories\n",
    "wrk_dir = '/labshare/LNG_spatial_transcriptomics/mouse_350plex_custom_Feb2024'\n",
    "xenium_samples_dir = f'{wrk_dir}/20240215__174229__FEB2024_LNG_100plex'\n",
    "xenium_ranger_path = '/home/gibbsr/xeniumranger-xenium1.7/bin/xeniumranger'\n",
    "\n",
    "# out files\n",
    "\n",
    "# variables\n",
    "DEBUG = True\n",
    "slides = ['0028089__ntg', '0028090__tg']\n",
    "sections = list(range(1, 4+1))\n",
    "slide_samples_frmt = {\n",
    "    '0028089__ntg': 'Line61nTg_{section_num}',\n",
    "    '0028090__tg': 'Line61Tg_{section_num}'\n",
    "}\n",
    "slide_name_frmt = 'output-XETG00175__{slide_id}_{section_num}__20240215__174342'\n",
    "expansion_distance = 5\n",
    "CPU_CNT = 12\n",
    "MAX_MEM = 64"
   ]
  },
  {
   "cell_type": "markdown",
   "id": "75f70d99-31e4-4e76-99f1-d4ecdf57f3aa",
   "metadata": {},
   "source": [
    "### format Xenium Ranger re-segement commands"
   ]
  },
  {
   "cell_type": "code",
   "execution_count": null,
   "id": "466e8055-237f-4e37-8ff1-7c49a2bde81a",
   "metadata": {},
   "outputs": [],
   "source": [
    "%%time\n",
    "reseg_cmds = []\n",
    "for slide in slides:\n",
    "    for section in sections:\n",
    "        slide_name = slide_name_frmt.format(slide_id=slide, section_num=section)\n",
    "        slide_path = f'{xenium_samples_dir}/{slide_name}'\n",
    "        sample_name = slide_samples_frmt.get(slide).format(section_num=section)\n",
    "        this_cmd = f'nohup {xenium_ranger_path} resegment --id={sample_name} \\\n",
    "--xenium-bundle={slide_path} --expansion-distance={expansion_distance} \\\n",
    "--resegment-nuclei=false --localcores {CPU_CNT} --localmem {MAX_MEM} --localvmem {MAX_MEM} \\\n",
    "--disable-ui true > {sample_name}_resegment.log &'\n",
    "        reseg_cmds.append(this_cmd)\n",
    "        \n",
    "if DEBUG:\n",
    "    display(reseg_cmds)"
   ]
  },
  {
   "cell_type": "markdown",
   "id": "ccbd06b8-7d98-47b8-a3c9-a5ab1d6ad500",
   "metadata": {},
   "source": [
    "#### run the commands at the terminal"
   ]
  },
  {
   "cell_type": "code",
   "execution_count": null,
   "id": "30d891d0-6c09-4f7e-b588-7226477e1d9a",
   "metadata": {},
   "outputs": [],
   "source": [
    "print('### run these commands at the terminal')\n",
    "print(f'cd {wrk_dir}/xenium_{expansion_distance}_micron_expansion')\n",
    "print('#')\n",
    "for cmd in reseg_cmds:\n",
    "    print(cmd)"
   ]
  },
  {
   "cell_type": "markdown",
   "id": "8206f34c-de80-48c5-870d-a23188424e2f",
   "metadata": {},
   "source": [
    "### take a look at the re-segmented summary metrics\n",
    "load the other expansion sizes as well"
   ]
  },
  {
   "cell_type": "code",
   "execution_count": null,
   "id": "055bb96e-d998-46b2-b8ec-15705aceaef9",
   "metadata": {},
   "outputs": [],
   "source": [
    "%%time\n",
    "metrics_df = None\n",
    "for slide in slides:\n",
    "    for section in sections:\n",
    "        for micron_size in [15, 5, 0]:\n",
    "            slide_name = slide_name_frmt.format(slide_id=slide, section_num=section)\n",
    "            slide_path = f'{xenium_samples_dir}/{slide_name}'\n",
    "            sample_name = slide_samples_frmt.get(slide).format(section_num=section)\n",
    "            if micron_size == 15:\n",
    "                metric_file = f'{slide_path}/metrics_summary.csv'\n",
    "            else:\n",
    "                metric_file = f'{wrk_dir}/xenium_{micron_size}_micron_expansion/{sample_name}/outs/metrics_summary.csv'\n",
    "            if not exists(metric_file):\n",
    "                continue\n",
    "            this_df = read_csv(metric_file)\n",
    "            this_df['slide'] = slide\n",
    "            this_df['section'] = section\n",
    "            this_df['sample_name'] = sample_name\n",
    "            this_df['micron_size'] = micron_size\n",
    "            metrics_df = concat([metrics_df, this_df])\n",
    "print(metrics_df.shape)\n",
    "if DEBUG:\n",
    "    display(metrics_df)"
   ]
  },
  {
   "cell_type": "code",
   "execution_count": null,
   "id": "d7a7c387-f677-4cf3-a2b0-b47e3b7b10e6",
   "metadata": {},
   "outputs": [],
   "source": [
    "features = ['fraction_empty_cells', 'fraction_transcripts_assigned', \n",
    "                'median_genes_per_cell', 'median_transcripts_per_cell']\n",
    "for this_feature in features:\n",
    "    display(metrics_df.groupby('micron_size')[this_feature].mean())"
   ]
  },
  {
   "cell_type": "code",
   "execution_count": null,
   "id": "2f737bf5-f1b4-4d6d-9ca7-8cfd97fa1154",
   "metadata": {},
   "outputs": [],
   "source": [
    "for this_feature in features:\n",
    "    with rc_context({'figure.figsize': (9, 9), 'figure.dpi': 50}):\n",
    "        plt.style.use('seaborn-v0_8-bright')  \n",
    "        df = metrics_df[['sample_name', this_feature, 'micron_size']].copy()\n",
    "        df['percent'] = df[this_feature] * 100\n",
    "        # barplot(x=df.index, y='percent', hue='type', data=df, palette='Purples')\n",
    "        barplot(x='sample_name', y='percent', hue='micron_size', data=df, palette=['purple', 'grey'])\n",
    "        plt.grid(axis='y')\n",
    "        plt.xticks(rotation=90)\n",
    "        plt.tight_layout()\n",
    "        plt.ylabel('percent')\n",
    "        plt.title(this_feature)\n",
    "        plt.show()    "
   ]
  },
  {
   "cell_type": "code",
   "execution_count": null,
   "id": "8a5946e0-bf04-4035-8e20-248c9a8021e0",
   "metadata": {},
   "outputs": [],
   "source": []
  }
 ],
 "metadata": {
  "kernelspec": {
   "display_name": "Python 3 (ipykernel)",
   "language": "python",
   "name": "python3"
  },
  "language_info": {
   "codemirror_mode": {
    "name": "ipython",
    "version": 3
   },
   "file_extension": ".py",
   "mimetype": "text/x-python",
   "name": "python",
   "nbconvert_exporter": "python",
   "pygments_lexer": "ipython3",
   "version": "3.10.13"
  }
 },
 "nbformat": 4,
 "nbformat_minor": 5
}
